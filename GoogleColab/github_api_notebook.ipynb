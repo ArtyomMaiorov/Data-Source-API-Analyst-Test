{
 "cells": [
  {
   "cell_type": "markdown",
   "metadata": {
    "id": "CzhZIkYE2QJP"
   },
   "source": [
    "# GitHub API Homework\n",
    "\n",
    "This notebook demonstrates interaction with the GitHub API to:\n",
    "1. Search repositories\n",
    "2. Retrieve commits\n",
    "3. Access repository contents"
   ]
  },
  {
   "cell_type": "code",
   "execution_count": 12,
   "metadata": {
    "colab": {
     "base_uri": "https://localhost:8080/"
    },
    "id": "z_5cKusn2QJR",
    "outputId": "16adafd6-f97b-47ef-be95-d807b2e3ee1d"
   },
   "source": [
    "# Install required packages\n",
    "!pip install pandas requests"
   ],
   "outputs": [
    {
     "output_type": "stream",
     "name": "stdout",
     "text": [
      "Requirement already satisfied: pandas in /usr/local/lib/python3.10/dist-packages (2.2.2)\n",
      "Requirement already satisfied: requests in /usr/local/lib/python3.10/dist-packages (2.32.3)\n",
      "Requirement already satisfied: numpy>=1.22.4 in /usr/local/lib/python3.10/dist-packages (from pandas) (1.26.4)\n",
      "Requirement already satisfied: python-dateutil>=2.8.2 in /usr/local/lib/python3.10/dist-packages (from pandas) (2.8.2)\n",
      "Requirement already satisfied: pytz>=2020.1 in /usr/local/lib/python3.10/dist-packages (from pandas) (2024.2)\n",
      "Requirement already satisfied: tzdata>=2022.7 in /usr/local/lib/python3.10/dist-packages (from pandas) (2024.2)\n",
      "Requirement already satisfied: charset-normalizer<4,>=2 in /usr/local/lib/python3.10/dist-packages (from requests) (3.4.0)\n",
      "Requirement already satisfied: idna<4,>=2.5 in /usr/local/lib/python3.10/dist-packages (from requests) (3.10)\n",
      "Requirement already satisfied: urllib3<3,>=1.21.1 in /usr/local/lib/python3.10/dist-packages (from requests) (2.2.3)\n",
      "Requirement already satisfied: certifi>=2017.4.17 in /usr/local/lib/python3.10/dist-packages (from requests) (2024.8.30)\n",
      "Requirement already satisfied: six>=1.5 in /usr/local/lib/python3.10/dist-packages (from python-dateutil>=2.8.2->pandas) (1.16.0)\n"
     ]
    }
   ]
  },
  {
   "cell_type": "code",
   "execution_count": 13,
   "metadata": {
    "id": "69W2wuk72QJS"
   },
   "source": [
    "import sys\n",
    "import requests\n",
    "import logging\n",
    "import time\n",
    "import json\n",
    "import pandas as pd\n",
    "\n",
    "# setup logging and logging formatting\n",
    "logger = logging.getLogger(__name__)\n",
    "logger.setLevel(logging.INFO)\n",
    "formatter = logging.Formatter(\n",
    "    '%(asctime)s - %(levelname)s - %(message)s',\n",
    "    datefmt='%Y-%m-%d %H:%M:%S'\n",
    ")\n",
    "stream_handler = logging.StreamHandler()\n",
    "stream_handler.setFormatter(formatter)\n",
    "logger.addHandler(stream_handler)"
   ],
   "outputs": []
  },
  {
   "cell_type": "markdown",
   "metadata": {
    "id": "yksFaxtK2QJT"
   },
   "source": [
    "## GitHub API Client Class Implementation\n",
    "\n",
    "Here is the implementation of GitHub API client class that handles requests, authentication, rate limiting, and pagination."
   ]
  },
  {
   "cell_type": "code",
   "execution_count": 14,
   "metadata": {
    "id": "eMdkbS5T2QJT"
   },
   "source": [
    "class GitHubAPIClient:\n",
    "    def __init__(self, auth_token):\n",
    "        self.base_url = 'https://api.github.com'\n",
    "        self.headers = {\n",
    "            'Accept': 'application/vnd.github.v3+json',\n",
    "            'Authorization': f'Bearer {auth_token}',\n",
    "            'X-GitHub-Api-Version': '2022-11-28'\n",
    "        }\n",
    "        self.session = requests.Session()\n",
    "        self.session.headers.update(self.headers)\n",
    "\n",
    "    @staticmethod\n",
    "    def handle_rate_limits(response):\n",
    "        \"\"\"Handle rate limiting by checking remaining requests and waiting if rate limit is exceeded\"\"\"\n",
    "        # remaining requests for a particular endpoint\n",
    "        remaining = int(response.headers.get('X-RateLimit-Remaining', 0))\n",
    "        if remaining == 0 and response.status_code == 403:\n",
    "            reset_time = int(response.headers.get('X-RateLimit-Reset', 0))\n",
    "            sleep_time = max(reset_time - time.time(), 0)\n",
    "            logger.warning(f'Rate limit nearly exceeded. Waiting for {sleep_time:.2f} seconds')\n",
    "            time.sleep(sleep_time)\n",
    "\n",
    "    def paginate_request(self, url, params=None, max_results=None):\n",
    "        \"\"\"Handle pagination for requests using links header from response\"\"\"\n",
    "        all_results = []\n",
    "        while url and (max_results is None or len(all_results) < max_results):\n",
    "            logger.debug('Retrieving from ' + str(url))\n",
    "            response = self.session.get(url, params=params)\n",
    "            self.handle_rate_limits(response)\n",
    "\n",
    "            # error handling for unsuccessful responses\n",
    "            if response.status_code != 200:\n",
    "                error_message = self.handle_error(response)\n",
    "                logger.error(f'Error sending request to {url} with params {params}: {error_message}')\n",
    "                sys.exit(1)\n",
    "\n",
    "            data = response.json()\n",
    "            if isinstance(data, list):\n",
    "                all_results.extend(data)\n",
    "            else:\n",
    "                all_results.append(data)\n",
    "            # stop if max_results is reached\n",
    "            if max_results is not None and len(all_results) >= max_results:\n",
    "                break\n",
    "            # get next page url in links header\n",
    "            url = response.links.get('next', {}).get('url')\n",
    "            params = None\n",
    "        return all_results[:max_results] if max_results else all_results\n",
    "\n",
    "    def search_repositories(self, query, sort='stars', order='desc', per_page=100, max_results=None):\n",
    "        \"\"\"Search for repositories which match the search\"\"\"\n",
    "        url = f'{self.base_url}/search/repositories'\n",
    "        params = {\n",
    "            'q': query,\n",
    "            'sort': sort,\n",
    "            'order': order,\n",
    "            'per_page': per_page\n",
    "        }\n",
    "        return self.paginate_request(url, params, max_results=max_results)\n",
    "\n",
    "    def get_repository_commits(self, owner, repo, per_page=100, max_results=None):\n",
    "        \"\"\"Get commits from a repository\"\"\"\n",
    "        url = f'{self.base_url}/repos/{owner}/{repo}/commits'\n",
    "        params = {\n",
    "            'per_page': per_page\n",
    "        }\n",
    "        return self.paginate_request(url, params, max_results=max_results)\n",
    "\n",
    "    def get_repository_contents(self, owner, repo, path=''):\n",
    "        \"\"\"Get contents of a repository at a specific path.\"\"\"\n",
    "        url = f'{self.base_url}/repos/{owner}/{repo}/contents/{path}'\n",
    "        return self.paginate_request(url)\n",
    "\n",
    "    @staticmethod\n",
    "    def handle_error(response):\n",
    "        \"\"\"Handle various API error responses.\"\"\"\n",
    "        error_handlers = {\n",
    "            401: 'Authentication error. Please check your token.',\n",
    "            403: 'Rate limit exceeded or permission denied.',\n",
    "            404: 'Resource not found. Verify the URL.',\n",
    "            422: 'Validation failed. Parameters are incorrect.'\n",
    "        }\n",
    "        try:\n",
    "            error_details = response.json().get('message', 'No additional details provided.')\n",
    "        except ValueError:  # cases where the response body isn't JSON\n",
    "            error_details = 'Response body is not valid JSON.'\n",
    "\n",
    "        return error_handlers.get(response.status_code,\n",
    "                                  f'Unknown error: {response.status_code}. Error details: {error_details}')"
   ],
   "outputs": []
  },
  {
   "cell_type": "markdown",
   "metadata": {
    "id": "2RK4YwDu2QJU"
   },
   "source": [
    "## Helper Functions for Data Display\n",
    "\n",
    "These functions format and display the data we retrieve from the API using pandas."
   ]
  },
  {
   "cell_type": "code",
   "execution_count": 25,
   "metadata": {
    "id": "OghUB0dc2QJV"
   },
   "source": [
    "def display_repos(repos):\n",
    "    \"\"\"Display repositories retrieved.\"\"\"\n",
    "    all_repo_data = []\n",
    "    for repo in repos:\n",
    "        if 'items' in repo:  # check if 'items' key exists\n",
    "            # get relevant fields from the first 5 repositories\n",
    "            repo_data = [\n",
    "                {\n",
    "                    'Repository': item['full_name'],\n",
    "                    'Stars': item['stargazers_count'],\n",
    "                    'Description': item['description']\n",
    "                }\n",
    "                for item in repo['items']\n",
    "            ]\n",
    "            all_repo_data.extend(repo_data)\n",
    "        else:\n",
    "            logger.error('No repositories found')\n",
    "            sys.exit(1)\n",
    "    df = pd.DataFrame(all_repo_data)\n",
    "    with pd.option_context('display.max_rows', None, 'display.max_columns', None, 'display.max_colwidth', 30):\n",
    "        print('Sample repositories found:\\n' + str(df.head(10)))\n",
    "\n",
    "\n",
    "def display_commits(commits):\n",
    "    \"\"\"Display a sample of commits.\"\"\"\n",
    "    if not commits:\n",
    "        logger.error('No commits found')\n",
    "        return\n",
    "    # get relevant fields\n",
    "    commit_data = [\n",
    "        {\n",
    "            'SHA': commit['sha'],\n",
    "            'Author': commit['commit']['author']['name'],\n",
    "            'Message': commit['commit']['message'][:50],  # show the first 50 characters of the message\n",
    "            'Date': commit['commit']['author']['date'],\n",
    "            'URL': commit['commit']['url']\n",
    "        }\n",
    "        for commit in commits\n",
    "    ]\n",
    "\n",
    "    df = pd.DataFrame(commit_data)\n",
    "    with pd.option_context('display.max_rows', None, 'display.max_columns', None, 'display.max_colwidth', 30):\n",
    "        print('Sample commits found:\\n' + str(df.head()))\n",
    "\n",
    "\n",
    "def display_contents(contents):\n",
    "    \"\"\"Display a sample of repository contents.\"\"\"\n",
    "    if not contents:\n",
    "        logger.error('No repository contents found')\n",
    "        return\n",
    "    # get relevant fields\n",
    "    contents_data = [\n",
    "        {\n",
    "            'Name': item['name'],\n",
    "            'Type': item['type'],\n",
    "            'Size': item['size'],\n",
    "            'Path': item['path']\n",
    "        }\n",
    "        for item in contents\n",
    "    ]\n",
    "\n",
    "    df = pd.DataFrame(contents_data)\n",
    "    with pd.option_context('display.max_rows', None, 'display.max_columns', None, 'display.max_colwidth', 30):\n",
    "        print('Sample contents found:\\n' + str(df.head()))"
   ],
   "outputs": []
  },
  {
   "cell_type": "markdown",
   "metadata": {
    "id": "s7TeGK8d2QJW"
   },
   "source": [
    "## Testing the API Client\n",
    "\n",
    "Now let's test our implementation. First, set up your Personal access token (classic) at https://github.com/settings/tokens."
   ]
  },
  {
   "cell_type": "code",
   "execution_count": 20,
   "metadata": {
    "id": "8vMDVfoB2QJX"
   },
   "source": [
    "# GitHub Personal Access Token\n",
    "auth_token = 'paste_your_token'\n",
    "\n",
    "# initialize client\n",
    "client = GitHubAPIClient(auth_token)"
   ],
   "outputs": []
  },
  {
   "cell_type": "markdown",
   "metadata": {
    "id": "ppzN53Sa2QJX"
   },
   "source": [
    "### 1. Search Repositories\n",
    "Let's search for 10 popular repositories with more than a thousand stars"
   ]
  },
  {
   "cell_type": "code",
   "execution_count": 26,
   "metadata": {
    "colab": {
     "base_uri": "https://localhost:8080/"
    },
    "id": "9-PzmPMN2QJY",
    "outputId": "608ea926-0156-4edf-eabf-3cc5ea38088f"
   },
   "source": [
    "# search repositories\n",
    "max_repos = 10\n",
    "repos = client.search_repositories('stars:>1000', sort='stars', max_results=max_repos)\n",
    "\n",
    "# display results\n",
    "display_repos(repos)\n"
   ],
   "outputs": [
    {
     "output_type": "stream",
     "name": "stdout",
     "text": [
      "Sample repositories found:\n",
      "                      Repository   Stars                    Description\n",
      "0      freeCodeCamp/freeCodeCamp  406587  freeCodeCamp.org's open-so...\n",
      "1  EbookFoundation/free-progr...  340919  :books: Freely available p...\n",
      "2           sindresorhus/awesome  336135  😎 Awesome lists about all ...\n",
      "3        public-apis/public-apis  319326  A collective list of free ...\n",
      "4  codecrafters-io/build-your...  316001  Master programming by recr...\n",
      "5  jwasham/coding-interview-u...  307541  A complete computer scienc...\n",
      "6  kamranahmedse/developer-ro...  300256  Interactive roadmaps, guid...\n",
      "7  donnemartin/system-design-...  278355  Learn how to design large-...\n",
      "8                 996icu/996.ICU  269994  Repo for counting stars an...\n",
      "9                 facebook/react  229948  The library for web and na...\n"
     ]
    }
   ]
  },
  {
   "cell_type": "markdown",
   "metadata": {
    "id": "kSsaKCgk2QJY"
   },
   "source": [
    "### 2. Get Repository Commits\n",
    "Let's get 10 commits from the first repository we found"
   ]
  },
  {
   "cell_type": "code",
   "execution_count": 27,
   "metadata": {
    "colab": {
     "base_uri": "https://localhost:8080/"
    },
    "id": "YiMEjN2b2QJY",
    "outputId": "0612b135-3292-4430-eec0-21041be8f1ec"
   },
   "source": [
    "# get sample repository details\n",
    "sample_repo = repos[0]['items'][0]\n",
    "owner = sample_repo['owner']['login']\n",
    "repo_name = sample_repo['name']\n",
    "\n",
    "# get commits\n",
    "max_commits = 10\n",
    "commits = client.get_repository_commits(owner, repo_name, max_results=max_commits)\n",
    "\n",
    "# display results\n",
    "commits_df = display_commits(commits)\n",
    "commits_df"
   ],
   "outputs": [
    {
     "output_type": "stream",
     "name": "stdout",
     "text": [
      "Sample commits found:\n",
      "                             SHA                 Author  \\\n",
      "0  027473267a78ec12c4b30a3c8d...                  Zaira   \n",
      "1  a334b21252eb1d43b15bce5946...                    Tom   \n",
      "2  25de45da462403ea6a7dc28daf...  Oliver Eyton-Williams   \n",
      "3  d80e3b0c8f98f74a5689d17b82...        Jessica Wilkins   \n",
      "4  195e3e662b683f0051a37424e5...             Supravisor   \n",
      "\n",
      "                         Message                  Date  \\\n",
      "0  feat(curriculum): adding c...  2024-12-05T16:06:40Z   \n",
      "1  fix(curriculum): b1 englis...  2024-12-05T12:53:37Z   \n",
      "2  fix(client): remove video ...  2024-12-05T08:55:00Z   \n",
      "3  fix(curriculum): replace 1...  2024-12-04T19:06:20Z   \n",
      "4  fix(curriculum): Typical W...  2024-12-04T18:39:02Z   \n",
      "\n",
      "                             URL  \n",
      "0  https://api.github.com/rep...  \n",
      "1  https://api.github.com/rep...  \n",
      "2  https://api.github.com/rep...  \n",
      "3  https://api.github.com/rep...  \n",
      "4  https://api.github.com/rep...  \n"
     ]
    }
   ]
  },
  {
   "cell_type": "markdown",
   "metadata": {
    "id": "iSj8_PWw2QJY"
   },
   "source": [
    "### 3. Get Repository Contents\n",
    "Let's retrieve the contents of the repository"
   ]
  },
  {
   "cell_type": "code",
   "execution_count": 28,
   "metadata": {
    "colab": {
     "base_uri": "https://localhost:8080/"
    },
    "id": "HlMewEtH2QJZ",
    "outputId": "b197b023-9233-47cb-9be8-00a601ec03ca"
   },
   "source": [
    "# get contents\n",
    "contents = client.get_repository_contents(owner, repo_name)\n",
    "\n",
    "# display results\n",
    "contents_df = display_contents(contents)\n",
    "contents_df"
   ],
   "outputs": [
    {
     "output_type": "stream",
     "name": "stdout",
     "text": [
      "Sample contents found:\n",
      "             Name  Type  Size            Path\n",
      "0   .dockerignore  file   177   .dockerignore\n",
      "1   .editorconfig  file   241   .editorconfig\n",
      "2   .eslintignore  file   269   .eslintignore\n",
      "3  .eslintrc.json  file  3434  .eslintrc.json\n",
      "4  .gitattributes  file   232  .gitattributes\n"
     ]
    }
   ]
  },
  {
   "cell_type": "markdown",
   "metadata": {
    "id": "jB25pd342QJZ"
   },
   "source": [
    "### Save Results\n",
    "Let's save all our results to a JSON file"
   ]
  },
  {
   "cell_type": "code",
   "execution_count": 29,
   "metadata": {
    "colab": {
     "base_uri": "https://localhost:8080/"
    },
    "id": "fHi0z6IT2QJZ",
    "outputId": "1f332a01-23b3-4929-90a7-41671c8787ca"
   },
   "source": [
    "# prepare results\n",
    "results = {\n",
    "    'repositories': repos,\n",
    "    'sample_commits': commits,\n",
    "    'contents': contents\n",
    "}\n",
    "\n",
    "# save to file\n",
    "with open('github_api_results.json', 'w') as f:\n",
    "    json.dump(results, f, indent=2)\n",
    "\n",
    "print('Results saved to github_api_results.json')"
   ],
   "outputs": [
    {
     "output_type": "stream",
     "name": "stdout",
     "text": [
      "Results saved to github_api_results.json\n"
     ]
    }
   ]
  }
 ],
 "metadata": {
  "kernelspec": {
   "display_name": "Python 3",
   "language": "python",
   "name": "python3"
  },
  "language_info": {
   "codemirror_mode": {
    "name": "ipython",
    "version": 3
   },
   "file_extension": ".py",
   "mimetype": "text/x-python",
   "name": "python",
   "nbconvert_exporter": "python",
   "pygments_lexer": "ipython3",
   "version": "3.8.0"
  },
  "colab": {
   "provenance": []
  }
 },
 "nbformat": 4,
 "nbformat_minor": 0
}
